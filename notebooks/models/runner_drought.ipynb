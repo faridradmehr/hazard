{
 "cells": [
  {
   "cell_type": "code",
   "execution_count": 1,
   "id": "53eb253b-eac1-455f-8656-48d2ec44793d",
   "metadata": {},
   "outputs": [],
   "source": [
    "from dotenv import load_dotenv, dotenv_values\n",
    "\n",
    "load_dotenv(\"/opt/app-root/src/hazard/credentials-dev.env\", override=True)\n",
    "import logging, sys\n",
    "\n",
    "sys.path.append(r\"/opt/app-root/src/hazard/src\")\n",
    "from hazard.models.drought_index import DroughtIndicator, S3ZarrWorkingStore, BatchItem, ZarrWorkingStore, ProgressStore\n",
    "import os\n",
    "import s3fs\n",
    "import numpy as np\n",
    "import xarray as xr\n",
    "from pathlib import PurePosixPath\n",
    "from hazard.sources.osc_zarr import OscZarr"
   ]
  },
  {
   "cell_type": "code",
   "execution_count": 2,
   "id": "e4d929a8-a244-469a-bda3-d5ca539970a0",
   "metadata": {},
   "outputs": [],
   "source": [
    "logging.basicConfig(\n",
    "    level=logging.INFO,\n",
    "    format=\"[%(asctime)s] {%(filename)s:%(lineno)d} %(levelname)s - %(message)s\",\n",
    "    handlers=[logging.FileHandler(filename=\"batch.log\"), logging.StreamHandler(sys.stdout)],\n",
    ")"
   ]
  },
  {
   "cell_type": "markdown",
   "id": "d5969bff-4f86-42de-87d1-c53c554b2b3a",
   "metadata": {},
   "source": [
    "## Model Run"
   ]
  },
  {
   "cell_type": "code",
   "execution_count": null,
   "id": "e760c116-fc7d-4a18-bb90-3bae82e18521",
   "metadata": {},
   "outputs": [
    {
     "name": "stdout",
     "output_type": "stream",
     "text": [
      "{'gcm': 'ACCESS-CM2', 'scenario': 'ssp585', 'central_years': [2005, 2030, 2040, 2050, 2080]}\n",
      "[2023-12-12 18:51:38,430] {drought_index.py:274} INFO - calculated SPEI for gcm=ACCESS-CM2, lats=[(10.0, 20.0)], lons=[(300.0, 310.0)]\n",
      "[2023-12-12 18:51:39,214] {drought_index.py:240} INFO - written chunk Chunk_0282 to zarr array.\n",
      "[2023-12-12 18:51:39,218] {drought_index.py:206} INFO - chunk Chunk_0282 complete.\n"
     ]
    }
   ],
   "source": [
    "S3Zarr = S3ZarrWorkingStore()\n",
    "target = OscZarr()\n",
    "model = DroughtIndicator(S3Zarr)\n",
    "item = BatchItem(gcm=model.gcms[5], scenario=model.scenarios[3], central_years=model.central_years)\n",
    "progress = ProgressStore(dir=\"/opt/app-root/src/hazard\", id=item.gcm + \"_\" + item.scenario)\n",
    "print(vars(item))\n",
    "model.pre_chunk(item)\n",
    "model.run_single(item, target=target, progress_store=progress)"
   ]
  },
  {
   "cell_type": "code",
   "execution_count": 2,
   "id": "bfe2beaf-faf8-41e4-95ea-d277a34aff65",
   "metadata": {},
   "outputs": [
    {
     "ename": "NameError",
     "evalue": "name 'ProgressStore' is not defined",
     "output_type": "error",
     "traceback": [
      "\u001b[0;31m---------------------------------------------------------------------------\u001b[0m",
      "\u001b[0;31mNameError\u001b[0m                                 Traceback (most recent call last)",
      "\u001b[0;32m<ipython-input-2-3850a6f0161c>\u001b[0m in \u001b[0;36m<module>\u001b[0;34m\u001b[0m\n\u001b[0;32m----> 1\u001b[0;31m \u001b[0mprogress\u001b[0m\u001b[0;34m=\u001b[0m\u001b[0mProgressStore\u001b[0m\u001b[0;34m(\u001b[0m\u001b[0mdir\u001b[0m\u001b[0;34m=\u001b[0m\u001b[0;34m\"/opt/app-root/src/hazard\"\u001b[0m\u001b[0;34m,\u001b[0m\u001b[0mid\u001b[0m\u001b[0;34m=\u001b[0m\u001b[0mitem\u001b[0m\u001b[0;34m.\u001b[0m\u001b[0mgcm\u001b[0m\u001b[0;34m+\u001b[0m\u001b[0;34m\"_\"\u001b[0m\u001b[0;34m+\u001b[0m\u001b[0mitem\u001b[0m\u001b[0;34m.\u001b[0m\u001b[0mscenario\u001b[0m\u001b[0;34m)\u001b[0m\u001b[0;34m\u001b[0m\u001b[0;34m\u001b[0m\u001b[0m\n\u001b[0m\u001b[1;32m      2\u001b[0m \u001b[0mtest\u001b[0m\u001b[0;34m=\u001b[0m\u001b[0mprogress\u001b[0m\u001b[0;34m.\u001b[0m\u001b[0m_read\u001b[0m\u001b[0;34m(\u001b[0m\u001b[0;34m)\u001b[0m\u001b[0;34m\u001b[0m\u001b[0;34m\u001b[0m\u001b[0m\n\u001b[1;32m      3\u001b[0m \u001b[0mtest\u001b[0m\u001b[0;34m.\u001b[0m\u001b[0mcomplete_indices\u001b[0m\u001b[0;34m\u001b[0m\u001b[0;34m\u001b[0m\u001b[0m\n",
      "\u001b[0;31mNameError\u001b[0m: name 'ProgressStore' is not defined"
     ]
    }
   ],
   "source": [
    "path = model.resource.path.format(gcm=item.gcm, scenario=item.scenario, year=2050)\n",
    "months_spei12m_below_set = target.read(path)\n",
    "months_spei12m_below_set.sel(index=0).plot(figsize=[20, 10])"
   ]
  }
 ],
 "metadata": {
  "kernelspec": {
   "display_name": "Python 3",
   "language": "python",
   "name": "python3"
  },
  "language_info": {
   "codemirror_mode": {
    "name": "ipython",
    "version": 3
   },
   "file_extension": ".py",
   "mimetype": "text/x-python",
   "name": "python",
   "nbconvert_exporter": "python",
   "pygments_lexer": "ipython3",
   "version": "3.8.6"
  }
 },
 "nbformat": 4,
 "nbformat_minor": 5
}
